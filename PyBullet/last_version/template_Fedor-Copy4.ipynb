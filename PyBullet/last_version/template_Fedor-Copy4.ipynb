{
 "cells": [
  {
   "cell_type": "code",
   "execution_count": null,
   "metadata": {},
   "outputs": [],
   "source": [
    "# !apt-get update \n",
    "# !pip3 install pybullet\n",
    "# !apt-get install -y ffmpeg\n",
    "# https://docs.google.com/document/d/10sXEhzFRSnvFcl3XxNGhnD4N2SedqwdAvK3dsihxVUA/edit#"
   ]
  },
  {
   "cell_type": "code",
   "execution_count": null,
   "metadata": {
    "scrolled": true
   },
   "outputs": [],
   "source": [
    "import torch\n",
    "\n",
    "import pybullet as p\n",
    "import time\n",
    "import numpy as np\n",
    "import os\n",
    "import sys\n",
    "from collections import namedtuple\n",
    "\n",
    "import _utils_v2 as utils\n",
    "from _utils_v2 import geom_shape, xyz_v2, s, CFG_Loader, rad2deg, deg2rad\n",
    "\n",
    "from builder import initializer, builder, main\n",
    "# from body_move import move\n",
    "\n",
    "\n",
    "class daughter:\n",
    "    def __init__(self, \n",
    "                 path2cfgs, \n",
    "                 VARIABLE        = 0.04,\n",
    "                 fig_joint_coeff = 0.25,\n",
    "                 centered        = False):\n",
    "        # super(daughter, self).__init__()\n",
    "        \n",
    "        self.path2cfgs = path2cfgs\n",
    "        self.VARIABLE  = VARIABLE\n",
    "        self.joint_cf  = fig_joint_coeff\n",
    "        self.centered  = centered \n",
    "        self.body_Mass = 200 if centered else 1e-5\n",
    "        self.position  = utils.coordinates(0,0,0) if centered else utils.coordinates(0,0,1)\n",
    "        self.init_cfgs = initializer(self.path2cfgs, self.VARIABLE, self.joint_cf)\n",
    "        \n",
    "    def run_enviroment(self, mode = p.GUI):\n",
    "        p.connect(mode)# Avalible p.GUI p.DIRECT\n",
    "        p.createCollisionShape(p.GEOM_PLANE, planeNormal = [0,0,1])\n",
    "        p.createMultiBody(0,0)\n",
    "        \n",
    "        self.blocks = builder(self.init_cfgs, self.position)\n",
    "        self.body   = main(self.blocks, self.body_Mass, self.centered)\n",
    "        self.minmax = [data.angles for data in self.body.cfgs if data.jntTypes==0]\n",
    "        self.mtrIdx = [i for i, data in enumerate(self.body.cfgs) if data.jntTypes==0]\n",
    "        self.names  = [(i, data.Name) for i, data in enumerate(self.body.cfgs) if data.jntTypes==0]\n",
    "        \n",
    "        self.force  = [data.torque for data in self.body.cfgs if data.jntTypes==0]\n",
    "        self.velocity=[data.ang_speed for data in self.body.cfgs if data.jntTypes==0]\n",
    "        \n",
    "        self.body.create_body()\n",
    "        \n",
    "    def stop_enviroment(self):\n",
    "        p.disconnect()   \n",
    "    \n",
    "    def reset(self):\n",
    "        p.setGravity(0,0,0)\n",
    "        \n",
    "        first_state = [0]*len(self.mtrIdx)\n",
    "        utils.resetCoordinates(1, self.mtrIdx, first_state, self.force, [i * 100 for i in self.velocity]) \n",
    "        \n",
    "        time.sleep(1)\n",
    "        p.resetBasePositionAndOrientation(1, [0, 0, 1.1], [0, 0, 0, 1])\n",
    "        p.setGravity(0,0,-9.81)\n",
    "        \n",
    "        return first_state\n",
    "    \n",
    "    def step(self, action):\n",
    "        next_state = 0\n",
    "        # utils.resetCoordinates(1, self.mtrIdx, next_state, self.force, self.velocity)\n",
    "        \n",
    "        base_loss = 0\n",
    "        reward = base_loss  \n",
    "         \n",
    "        b_position, _ = p.getBasePositionAndOrientation(1)\n",
    "        game_over = False if b_position[2] < 0.6 else True\n",
    "        additional_info = b_position\n",
    "        return next_state, reward, game_over, additional_info\n",
    "    \n",
    "    \n",
    "class model(torch.nn.Module):\n",
    "    def __init__(self):\n",
    "        super(model, self).__init__()\n",
    "        self.hw = 'Hello, World!'\n",
    "        self.Linear_1 = torch.nn.Linear(26 ,  52)\n",
    "        self.Linear_2 = torch.nn.Linear(52 , 104)\n",
    "        self.Linear_3 = torch.nn.Linear(104, 208)\n",
    "        self.Linear_4 = torch.nn.Linear(208, 104)\n",
    "        self.Linear_5 = torch.nn.Linear(104,  52)\n",
    "        self.classifier = torch.nn.Linear(52 ,26)\n",
    "        self.regressor  = torch.nn.Linear(52 ,26)\n",
    "        \n",
    "    def forward(self, x):\n",
    "        x = self.Linear_1(x)\n",
    "        x = self.Linear_2(x)\n",
    "        x = self.Linear_3(x)\n",
    "        x = self.Linear_4(x)\n",
    "        x = self.Linear_5(x)\n",
    "        cls = self.classifier(x)\n",
    "        rgr = self.regressor(x)\n",
    "        return cls, rgr\n",
    "    \n",
    "def optimizer_init(net, lr  = 1e-3,  momentum = 0.9, \n",
    "                   wght_dcy = 5e-4,  epsilon  = 1e-8, beta1 = 0.9,  beta2 = 0.999, \n",
    "                   amsgrad  = False, is_SGD   = True, custom_params = True):\n",
    "    if custom_params:\n",
    "        biases, not_biases = list(), list()\n",
    "        for param_name, param in net.named_parameters():\n",
    "            if param.requires_grad:\n",
    "                if param_name.endswith('.bias'):\n",
    "                    biases.append(param)\n",
    "                else:\n",
    "                    not_biases.append(param)\n",
    "        params = [{'params': biases, 'lr': 2*lr}, {'params': not_biases}]\n",
    "    else:\n",
    "        params = net.parameters()\n",
    "    if is_SGD:\n",
    "        optimizer = torch.optim.SGD(\n",
    "            params       = params,\n",
    "            lr           = lr,\n",
    "            momentum     = momentum,\n",
    "            weight_decay = wght_dcy)\n",
    "    else:\n",
    "        optimizer = torch.optim.Adam(\n",
    "            params       = params, \n",
    "            lr           = lr, \n",
    "            betas        = (beta1,beta2), \n",
    "            eps          = epsilon,\n",
    "            weight_decay = wght_dcy, \n",
    "            amsgrad      = amsgrad)\n",
    "    return optimizer"
   ]
  },
  {
   "cell_type": "code",
   "execution_count": null,
   "metadata": {},
   "outputs": [],
   "source": [
    "from tqdm import tqdm_notebook as tqdm\n",
    "import torch.nn.functional as F\n",
    "\n",
    "path = './cfgs'\n",
    "enviroment = daughter(path)\n",
    "enviroment.run_enviroment()\n",
    "angles = enviroment.reset()\n",
    "\n",
    "# Net initialization\n",
    "net = model()\n",
    "# Optimizer initialization \n",
    "optimizer = optimizer_init(net)"
   ]
  },
  {
   "cell_type": "code",
   "execution_count": null,
   "metadata": {},
   "outputs": [],
   "source": [
    "def searcher(pathOfName, enviroment_names):\n",
    "    rez = [(i) for i in enviroment_names \n",
    "           if pathOfName in i[1].Name]\n",
    "    return rez"
   ]
  },
  {
   "cell_type": "code",
   "execution_count": null,
   "metadata": {},
   "outputs": [],
   "source": [
    "angles = enviroment.reset()"
   ]
  },
  {
   "cell_type": "code",
   "execution_count": null,
   "metadata": {},
   "outputs": [],
   "source": [
    "enviroment.stop_enviroment()"
   ]
  },
  {
   "cell_type": "code",
   "execution_count": null,
   "metadata": {},
   "outputs": [],
   "source": [
    "motors = [(i,j) for i, j in enumerate(enviroment.body.cfgs) if j.jntTypes==0]"
   ]
  },
  {
   "cell_type": "code",
   "execution_count": null,
   "metadata": {},
   "outputs": [],
   "source": [
    "p.setGravity(0,0,-9.81)\n",
    "name = 'ShoulderF'\n",
    "motor_indexes = [i[0] for i in searcher(name, motors)]\n",
    "forces = [i[1].torque for i in searcher(name, motors)]\n",
    "velocities = [i[1].ang_speed for i in searcher(name, motors)]\n",
    "angles = [\n",
    "    -190,-190,\n",
    "] \n",
    "utils.resetCoordinates(1, motor_indexes, angles, forces, velocities)\n",
    "print([i for i in enviroment.names if i[0] in motor_indexes])"
   ]
  },
  {
   "cell_type": "code",
   "execution_count": null,
   "metadata": {},
   "outputs": [],
   "source": [
    "while (1):\n",
    "    pos, ori = p.getBasePositionAndOrientation(1)\n",
    "    if pos[2] < 0.5:\n",
    "        angles = enviroment.reset()\n",
    "        break"
   ]
  },
  {
   "cell_type": "code",
   "execution_count": null,
   "metadata": {},
   "outputs": [],
   "source": [
    "# # jointPosition (in radians along avalible axis)\n",
    "# # jointVelocity\n",
    "# # jointReactionForces\n",
    "# # appliedJointMotorTorque\n",
    "\n",
    "# data                    = p.getJointStates(1,motor_indexes)\n",
    "# jointPosition           = [el[0] for el in data]\n",
    "# jointVelocity           = [el[1] for el in data]\n",
    "# jointReactionForces     = [el[2] for el in data]\n",
    "# appliedJointMotorTorque = [el[3] for el in data]\n",
    "\n",
    "# angles = [rad2deg(rad) for rad in jointPosition]\n",
    "# angles"
   ]
  },
  {
   "cell_type": "code",
   "execution_count": null,
   "metadata": {},
   "outputs": [],
   "source": [
    "action,state = net(state/360)\n",
    "state = state*360\n",
    "condition = True"
   ]
  },
  {
   "cell_type": "code",
   "execution_count": null,
   "metadata": {},
   "outputs": [],
   "source": [
    "action,state"
   ]
  },
  {
   "cell_type": "code",
   "execution_count": null,
   "metadata": {},
   "outputs": [],
   "source": []
  },
  {
   "cell_type": "code",
   "execution_count": null,
   "metadata": {},
   "outputs": [],
   "source": [
    "# values\n",
    "# indices[-values[values>1e-5].shape[0]]"
   ]
  },
  {
   "cell_type": "code",
   "execution_count": null,
   "metadata": {},
   "outputs": [],
   "source": [
    "mts = values[values>1e-2].shape[0]\n",
    "mtrIdx = indices[-mts:]\n",
    "next_state = state[indices[-mts:]]\n",
    "\n",
    "utils.resetCoordinates(1, mtrIdx, next_state)"
   ]
  },
  {
   "cell_type": "code",
   "execution_count": null,
   "metadata": {},
   "outputs": [],
   "source": [
    "#with torch.autograd.set_detect_anomaly(True):\n",
    "optimizer.zero_grad()\n",
    "r.backward()\n",
    "optimizer.step()"
   ]
  },
  {
   "cell_type": "code",
   "execution_count": null,
   "metadata": {},
   "outputs": [],
   "source": [
    "next_state, overCharge = self.clamp(action)\n",
    "utils.resetCoordinates(1, self.mtrIdx, next_state)\n",
    "base_loss = torch.tensor(data = (100 - (time.time() - self.global_timer)), \n",
    "                 dtype = torch.float16)\n",
    "reward = base_loss # sum(overCharge) + \n",
    "\n",
    "b_position, _ = p.getBasePositionAndOrientation(1)\n",
    "game_over = False if b_position[2] < 0.6 else True\n",
    "additional_info = b_position\n",
    "# return next_state, reward, game_over, additional_info"
   ]
  },
  {
   "cell_type": "code",
   "execution_count": null,
   "metadata": {},
   "outputs": [],
   "source": [
    "#         action, reward, \\\n",
    "#         condition,      \\\n",
    "#         additional_info = enviroment.step(action)\n",
    "\n",
    "#         optimizer.zero_grad()\n",
    "#         reward.backward()\n",
    "#         optimizer.step()"
   ]
  },
  {
   "cell_type": "code",
   "execution_count": null,
   "metadata": {},
   "outputs": [],
   "source": [
    "angles = enviroment.reset()\n",
    "state  = torch.tensor(angles, dtype = torch.float32)"
   ]
  },
  {
   "cell_type": "code",
   "execution_count": null,
   "metadata": {},
   "outputs": [],
   "source": [
    "action, state = net(state/360)\n",
    "state = state*360\n",
    "action, state"
   ]
  },
  {
   "cell_type": "code",
   "execution_count": null,
   "metadata": {},
   "outputs": [],
   "source": [
    "rez = F.softmax(action)\n",
    "values, indices = rez.sort()\n",
    "values, indices"
   ]
  },
  {
   "cell_type": "code",
   "execution_count": null,
   "metadata": {
    "scrolled": true
   },
   "outputs": [],
   "source": [
    "for epoch in tqdm(range(100)):\n",
    "    \n",
    "    angles = enviroment.reset()\n",
    "    action = torch.tensor(angles, dtype = torch.float32)\n",
    "    start_time = time.time()\n",
    "    condition = True\n",
    "    \n",
    "    while (1):\n",
    "        pos, ori = p.getBasePositionAndOrientation(1)\n",
    "        if pos[2] < 0.5:\n",
    "            break\n",
    "        action, state = net(state/360)\n",
    "        state = state * 360\n",
    "        \n",
    "        time.sleep(1)\n",
    "\n",
    "# next_state = 0\n",
    "# utils.resetCoordinates(1, self.mtrIdx, next_state, self.force, self.velocity)\n",
    "\n",
    "# base_loss = 0\n",
    "# reward = base_loss  \n",
    "\n",
    "# b_position, _ = p.getBasePositionAndOrientation(1)\n",
    "# game_over = False if b_position[2] < 0.6 else True\n",
    "# additional_info = b_position\n",
    "# # next_state, reward, game_over, additional_info"
   ]
  },
  {
   "cell_type": "code",
   "execution_count": null,
   "metadata": {},
   "outputs": [],
   "source": [
    "enviroment.stop_enviroment()"
   ]
  }
 ],
 "metadata": {
  "kernelspec": {
   "display_name": "Python 3",
   "language": "python",
   "name": "python3"
  },
  "language_info": {
   "codemirror_mode": {
    "name": "ipython",
    "version": 3
   },
   "file_extension": ".py",
   "mimetype": "text/x-python",
   "name": "python",
   "nbconvert_exporter": "python",
   "pygments_lexer": "ipython3",
   "version": "3.6.9"
  }
 },
 "nbformat": 4,
 "nbformat_minor": 4
}
