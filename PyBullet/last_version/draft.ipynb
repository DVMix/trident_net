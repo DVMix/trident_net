{
 "cells": [
  {
   "cell_type": "code",
   "execution_count": 1,
   "metadata": {},
   "outputs": [],
   "source": [
    "import pybullet as p\n",
    "import time\n",
    "import numpy as np\n",
    "import os\n",
    "import sys\n",
    "from collections import namedtuple\n",
    "\n",
    "import _utils as u\n",
    "import _utils_v2 as u2\n",
    "from _utils_v2 import geom_shape, xyz_v2, s, CFG_Loader"
   ]
  },
  {
   "cell_type": "code",
   "execution_count": 2,
   "metadata": {},
   "outputs": [],
   "source": [
    "u2.init_window()\n",
    "path = './cfgs'\n",
    "cfgs = CFG_Loader(path).get_result()"
   ]
  },
  {
   "cell_type": "code",
   "execution_count": 3,
   "metadata": {},
   "outputs": [],
   "source": [
    "def get_data(cfgs, name):\n",
    "    if name.startswith('R_'):\n",
    "        name = name.replace('R_','')\n",
    "        data = cfgs[name].RIGHT\n",
    "        try:\n",
    "            additional_name = data.motor_ops.stick_to\n",
    "            if additional_name.startswith('R_'):\n",
    "                additional_name = additional_name.replace('R_','')\n",
    "        except:\n",
    "            additional_name = None\n",
    "    elif name.startswith('L_'):\n",
    "        name = name.replace('L_','')\n",
    "        data = cfgs[name].LEFT\n",
    "        try:\n",
    "            additional_name = data.motor_ops.stick_to\n",
    "            if additional_name.startswith('L_'):\n",
    "                additional_name = additional_name.replace('L_','')\n",
    "        except:\n",
    "            additional_name = None\n",
    "    else:\n",
    "        data = cfgs[name]\n",
    "        try:\n",
    "            additional_name = data.motor_ops.stick_to\n",
    "        except:\n",
    "            additional_name = None\n",
    "    basic_data = data\n",
    "    addit_data = cfgs[additional_name] if additional_name is not None else None\n",
    "    return basic_data, addit_data"
   ]
  },
  {
   "cell_type": "code",
   "execution_count": 4,
   "metadata": {},
   "outputs": [
    {
     "data": {
      "text/plain": [
       "({'mass': 5.542, 'center_of_mass': {'X': 0.0, 'Y': -0.01, 'Z': 0.91}}, None)"
      ]
     },
     "execution_count": 4,
     "metadata": {},
     "output_type": "execute_result"
    }
   ],
   "source": [
    "name = 'Pelvis'\n",
    "basic_data, addit_data = get_data(cfgs, name)\n",
    "basic_data, addit_data"
   ]
  },
  {
   "cell_type": "code",
   "execution_count": 5,
   "metadata": {},
   "outputs": [],
   "source": [
    "ROBOT = namedtuple('Body',['CSI', 'Masses', 'Positions', 'indices', 'jntTypes', 'axis', 'angles'])\n",
    "base_position = u.coordinates(0,0,0)"
   ]
  },
  {
   "cell_type": "code",
   "execution_count": 6,
   "metadata": {},
   "outputs": [],
   "source": [
    "# M_Pelvis = ROBOT(\n",
    "#     CSI       = u2.geom_shape(p.GEOM_SPHERE, radius = 0.04, coeff_R = 1), \n",
    "#     Masses    = cfgs.Pelvis.mass, \n",
    "#     Positions = xyz_v2(d2m,, data = base_position),\n",
    "#     indices   = 0, \n",
    "#     jntTypes  = p.JOINT_PRISMATIC, \n",
    "#     axis      = [0,0,0],\n",
    "#     angles    = None)"
   ]
  },
  {
   "cell_type": "code",
   "execution_count": 8,
   "metadata": {},
   "outputs": [],
   "source": [
    "def s_v2(kind,cfg):\n",
    "    if kind == 'j':\n",
    "        return cfg.joint_coord \n",
    "    if kind == 'm':\n",
    "        return cfg.center_of_mass \n",
    "    if kind == 'd':\n",
    "        return cfg\n",
    "\n",
    "def xyz_v2(mode, BASE, STICK = None):\n",
    "    if STICK is None:\n",
    "        STICK = BASE\n",
    "    X = s_v2(mode[1],STICK).X - s_v2(mode[0],BASE).X \n",
    "    Y = s_v2(mode[1],STICK).Y - s_v2(mode[0],BASE).Y \n",
    "    Z = s_v2(mode[1],STICK).Z - s_v2(mode[0],BASE).Z \n",
    "    return [X,Y,Z]"
   ]
  },
  {
   "cell_type": "code",
   "execution_count": 17,
   "metadata": {},
   "outputs": [
    {
     "data": {
      "text/plain": [
       "[0.0, 0.01, 0.0]"
      ]
     },
     "execution_count": 17,
     "metadata": {},
     "output_type": "execute_result"
    }
   ],
   "source": [
    "m2j = ['m','j']\n",
    "j2m = ['j','m']\n",
    "m2m = ['m','m']\n",
    "d2m = ['d','m']\n",
    "m2d = ['m','d']\n",
    "xyz_v2(m2j, cfgs.AnkleF.RIGHT)"
   ]
  },
  {
   "cell_type": "code",
   "execution_count": 18,
   "metadata": {},
   "outputs": [
    {
     "data": {
      "text/plain": [
       "{'mass': 2.5,\n",
       " 'center_of_mass': {'X': 0.01, 'Y': 0.02, 'Z': 1.08},\n",
       " 'joint_coord': {'X': 0.0, 'Y': 0.01, 'Z': 1.03},\n",
       " 'motor_ops': {'motor_name': 'TorsoF',\n",
       "  'stick_to': 'TorsoS',\n",
       "  'axes': {'X': 0.0, 'Y': 0.0, 'Z': -1.0},\n",
       "  'min_angle': -12,\n",
       "  'max_angle': 40,\n",
       "  'angular_speed': 75,\n",
       "  'torque': 525.0}}"
      ]
     },
     "execution_count": 18,
     "metadata": {},
     "output_type": "execute_result"
    }
   ],
   "source": [
    "cfgs.TorsoF"
   ]
  },
  {
   "cell_type": "code",
   "execution_count": 20,
   "metadata": {},
   "outputs": [
    {
     "data": {
      "text/plain": [
       "{'mass': 4.105,\n",
       " 'center_of_mass': {'X': 0.0, 'Y': -0.01, 'Z': 1.03},\n",
       " 'joint_coord': {'X': 0.0, 'Y': 0.01, 'Z': 1.03},\n",
       " 'motor_ops': {'motor_name': 'TorsoS',\n",
       "  'stick_to': 'Pelvis',\n",
       "  'axes': {'X': 1.0, 'Y': 0.0, 'Z': 0.0},\n",
       "  'min_angle': -15,\n",
       "  'max_angle': 15,\n",
       "  'angular_speed': 753,\n",
       "  'torque': 75.0}}"
      ]
     },
     "execution_count": 20,
     "metadata": {},
     "output_type": "execute_result"
    }
   ],
   "source": [
    "cfgs.TorsoS"
   ]
  },
  {
   "cell_type": "code",
   "execution_count": 22,
   "metadata": {},
   "outputs": [
    {
     "data": {
      "text/plain": [
       "[0.01, 0.01, 0.050000000000000044]"
      ]
     },
     "execution_count": 22,
     "metadata": {},
     "output_type": "execute_result"
    }
   ],
   "source": [
    "xyz_v2(m2j,cfgs.TorsoS,cfgs.TorsoF)\n",
    "xyz_v2(j2m,cfgs.TorsoF)"
   ]
  },
  {
   "cell_type": "code",
   "execution_count": 41,
   "metadata": {},
   "outputs": [],
   "source": [
    "def dict2list(from_dict):\n",
    "    return list(from_dict.values())\n",
    "    \n",
    "def structure(cfgs, name, index_J, index_M, VARIABLE = 0.04, j = 0.25, STATIC = [0,0,0]):\n",
    "    \"\"\"\n",
    "    CSI : CollisionShapeIndexes\n",
    "    \"\"\"\n",
    "    basic_data, addit_data = get_data(cfgs,name)\n",
    "    motor_ops = basic_data.motor_ops\n",
    "    \n",
    "    J = ROBOT(\n",
    "        CSI       = u2.geom_shape(p.GEOM_SPHERE, radius = VARIABLE, coeff_R = j), \n",
    "        Masses    = 0.00000001,  \n",
    "        Positions = xyz_v2(m2j,addit_data, basic_data),\n",
    "        indices   = index_J,\n",
    "        jntTypes  = p.JOINT_REVOLUTE, \n",
    "        axis      = dict2list(motor_ops.axes), \n",
    "        angles    = [motor_ops.min_angle, motor_ops.max_angle]\n",
    "    )\n",
    "    M = ROBOT(\n",
    "        CSI       = u2.geom_shape(p.GEOM_SPHERE, radius = VARIABLE, coeff_R = 1), \n",
    "        Masses    = basic_data.mass,  \n",
    "        Positions = xyz_v2(j2m, basic_data),\n",
    "        indices   = index_M, \n",
    "        jntTypes  = p.JOINT_PRISMATIC, \n",
    "        axis      = STATIC, \n",
    "        angles    = None\n",
    "    )\n",
    "    return J,M"
   ]
  },
  {
   "cell_type": "code",
   "execution_count": 60,
   "metadata": {},
   "outputs": [
    {
     "data": {
      "text/plain": [
       "(True, True)"
      ]
     },
     "execution_count": 60,
     "metadata": {},
     "output_type": "execute_result"
    }
   ],
   "source": [
    "name = 'TorsoR'\n",
    "J,M = structure(cfgs, name, index_J = 0, index_M = 1)\n",
    "\n",
    "main = cfgs[name] \n",
    "prev = cfgs[main.motor_ops.stick_to]\n",
    "J.Positions == xyz_v2(m2j,prev,main), M.Positions == xyz_v2(j2m,main)"
   ]
  },
  {
   "cell_type": "code",
   "execution_count": 70,
   "metadata": {},
   "outputs": [
    {
     "ename": "AttributeError",
     "evalue": "'EasyDict' object has no attribute 'center_of_mass'",
     "output_type": "error",
     "traceback": [
      "\u001b[0;31m---------------------------------------------------------------------------\u001b[0m",
      "\u001b[0;31mAttributeError\u001b[0m                            Traceback (most recent call last)",
      "\u001b[0;32m<ipython-input-70-6da8885595fc>\u001b[0m in \u001b[0;36m<module>\u001b[0;34m\u001b[0m\n\u001b[1;32m      3\u001b[0m     \u001b[0mCSI\u001b[0m \u001b[0;34m=\u001b[0m \u001b[0mu2\u001b[0m\u001b[0;34m.\u001b[0m\u001b[0mgeom_shape\u001b[0m\u001b[0;34m(\u001b[0m\u001b[0mp\u001b[0m\u001b[0;34m.\u001b[0m\u001b[0mGEOM_BOX\u001b[0m\u001b[0;34m,\u001b[0m \u001b[0mheight\u001b[0m \u001b[0;34m=\u001b[0m \u001b[0;36m0.04\u001b[0m\u001b[0;34m,\u001b[0m \u001b[0mcoeff_P\u001b[0m \u001b[0;34m=\u001b[0m \u001b[0;34m[\u001b[0m\u001b[0;36m1\u001b[0m\u001b[0;34m,\u001b[0m\u001b[0;36m3\u001b[0m\u001b[0;34m,\u001b[0m\u001b[0;36m0.25\u001b[0m\u001b[0;34m]\u001b[0m\u001b[0;34m)\u001b[0m\u001b[0;34m,\u001b[0m\u001b[0;34m\u001b[0m\u001b[0;34m\u001b[0m\u001b[0m\n\u001b[1;32m      4\u001b[0m     \u001b[0mMasses\u001b[0m      \u001b[0;34m=\u001b[0m \u001b[0mcfgs\u001b[0m\u001b[0;34m.\u001b[0m\u001b[0mFoot\u001b[0m\u001b[0;34m.\u001b[0m\u001b[0mRIGHT\u001b[0m\u001b[0;34m.\u001b[0m\u001b[0mmass\u001b[0m\u001b[0;34m,\u001b[0m\u001b[0;34m\u001b[0m\u001b[0;34m\u001b[0m\u001b[0m\n\u001b[0;32m----> 5\u001b[0;31m     \u001b[0mPositions\u001b[0m   \u001b[0;34m=\u001b[0m \u001b[0mxyz_v2\u001b[0m\u001b[0;34m(\u001b[0m\u001b[0mm2m\u001b[0m\u001b[0;34m,\u001b[0m\u001b[0mcfgs\u001b[0m\u001b[0;34m.\u001b[0m\u001b[0mAnkleS\u001b[0m\u001b[0;34m,\u001b[0m\u001b[0mcfgs\u001b[0m\u001b[0;34m.\u001b[0m\u001b[0mFoot\u001b[0m\u001b[0;34m.\u001b[0m\u001b[0mRIGHT\u001b[0m\u001b[0;34m)\u001b[0m\u001b[0;34m,\u001b[0m\u001b[0;34m\u001b[0m\u001b[0;34m\u001b[0m\u001b[0m\n\u001b[0m\u001b[1;32m      6\u001b[0m     \u001b[0mindices\u001b[0m     \u001b[0;34m=\u001b[0m \u001b[0;36m41\u001b[0m\u001b[0;34m,\u001b[0m\u001b[0;34m\u001b[0m\u001b[0;34m\u001b[0m\u001b[0m\n\u001b[1;32m      7\u001b[0m     \u001b[0mjntTypes\u001b[0m    \u001b[0;34m=\u001b[0m \u001b[0mp\u001b[0m\u001b[0;34m.\u001b[0m\u001b[0mJOINT_PRISMATIC\u001b[0m\u001b[0;34m,\u001b[0m\u001b[0;34m\u001b[0m\u001b[0;34m\u001b[0m\u001b[0m\n",
      "\u001b[0;32m<ipython-input-8-427649f9bc1c>\u001b[0m in \u001b[0;36mxyz_v2\u001b[0;34m(mode, BASE, STICK)\u001b[0m\n\u001b[1;32m     10\u001b[0m     \u001b[0;32mif\u001b[0m \u001b[0mSTICK\u001b[0m \u001b[0;32mis\u001b[0m \u001b[0;32mNone\u001b[0m\u001b[0;34m:\u001b[0m\u001b[0;34m\u001b[0m\u001b[0;34m\u001b[0m\u001b[0m\n\u001b[1;32m     11\u001b[0m         \u001b[0mSTICK\u001b[0m \u001b[0;34m=\u001b[0m \u001b[0mBASE\u001b[0m\u001b[0;34m\u001b[0m\u001b[0;34m\u001b[0m\u001b[0m\n\u001b[0;32m---> 12\u001b[0;31m     \u001b[0mX\u001b[0m \u001b[0;34m=\u001b[0m \u001b[0ms_v2\u001b[0m\u001b[0;34m(\u001b[0m\u001b[0mmode\u001b[0m\u001b[0;34m[\u001b[0m\u001b[0;36m1\u001b[0m\u001b[0;34m]\u001b[0m\u001b[0;34m,\u001b[0m\u001b[0mSTICK\u001b[0m\u001b[0;34m)\u001b[0m\u001b[0;34m.\u001b[0m\u001b[0mX\u001b[0m \u001b[0;34m-\u001b[0m \u001b[0ms_v2\u001b[0m\u001b[0;34m(\u001b[0m\u001b[0mmode\u001b[0m\u001b[0;34m[\u001b[0m\u001b[0;36m0\u001b[0m\u001b[0;34m]\u001b[0m\u001b[0;34m,\u001b[0m\u001b[0mBASE\u001b[0m\u001b[0;34m)\u001b[0m\u001b[0;34m.\u001b[0m\u001b[0mX\u001b[0m\u001b[0;34m\u001b[0m\u001b[0;34m\u001b[0m\u001b[0m\n\u001b[0m\u001b[1;32m     13\u001b[0m     \u001b[0mY\u001b[0m \u001b[0;34m=\u001b[0m \u001b[0ms_v2\u001b[0m\u001b[0;34m(\u001b[0m\u001b[0mmode\u001b[0m\u001b[0;34m[\u001b[0m\u001b[0;36m1\u001b[0m\u001b[0;34m]\u001b[0m\u001b[0;34m,\u001b[0m\u001b[0mSTICK\u001b[0m\u001b[0;34m)\u001b[0m\u001b[0;34m.\u001b[0m\u001b[0mY\u001b[0m \u001b[0;34m-\u001b[0m \u001b[0ms_v2\u001b[0m\u001b[0;34m(\u001b[0m\u001b[0mmode\u001b[0m\u001b[0;34m[\u001b[0m\u001b[0;36m0\u001b[0m\u001b[0;34m]\u001b[0m\u001b[0;34m,\u001b[0m\u001b[0mBASE\u001b[0m\u001b[0;34m)\u001b[0m\u001b[0;34m.\u001b[0m\u001b[0mY\u001b[0m\u001b[0;34m\u001b[0m\u001b[0;34m\u001b[0m\u001b[0m\n\u001b[1;32m     14\u001b[0m     \u001b[0mZ\u001b[0m \u001b[0;34m=\u001b[0m \u001b[0ms_v2\u001b[0m\u001b[0;34m(\u001b[0m\u001b[0mmode\u001b[0m\u001b[0;34m[\u001b[0m\u001b[0;36m1\u001b[0m\u001b[0;34m]\u001b[0m\u001b[0;34m,\u001b[0m\u001b[0mSTICK\u001b[0m\u001b[0;34m)\u001b[0m\u001b[0;34m.\u001b[0m\u001b[0mZ\u001b[0m \u001b[0;34m-\u001b[0m \u001b[0ms_v2\u001b[0m\u001b[0;34m(\u001b[0m\u001b[0mmode\u001b[0m\u001b[0;34m[\u001b[0m\u001b[0;36m0\u001b[0m\u001b[0;34m]\u001b[0m\u001b[0;34m,\u001b[0m\u001b[0mBASE\u001b[0m\u001b[0;34m)\u001b[0m\u001b[0;34m.\u001b[0m\u001b[0mZ\u001b[0m\u001b[0;34m\u001b[0m\u001b[0;34m\u001b[0m\u001b[0m\n",
      "\u001b[0;32m<ipython-input-8-427649f9bc1c>\u001b[0m in \u001b[0;36ms_v2\u001b[0;34m(kind, cfg)\u001b[0m\n\u001b[1;32m      3\u001b[0m         \u001b[0;32mreturn\u001b[0m \u001b[0mcfg\u001b[0m\u001b[0;34m.\u001b[0m\u001b[0mjoint_coord\u001b[0m\u001b[0;34m\u001b[0m\u001b[0;34m\u001b[0m\u001b[0m\n\u001b[1;32m      4\u001b[0m     \u001b[0;32mif\u001b[0m \u001b[0mkind\u001b[0m \u001b[0;34m==\u001b[0m \u001b[0;34m'm'\u001b[0m\u001b[0;34m:\u001b[0m\u001b[0;34m\u001b[0m\u001b[0;34m\u001b[0m\u001b[0m\n\u001b[0;32m----> 5\u001b[0;31m         \u001b[0;32mreturn\u001b[0m \u001b[0mcfg\u001b[0m\u001b[0;34m.\u001b[0m\u001b[0mcenter_of_mass\u001b[0m\u001b[0;34m\u001b[0m\u001b[0;34m\u001b[0m\u001b[0m\n\u001b[0m\u001b[1;32m      6\u001b[0m     \u001b[0;32mif\u001b[0m \u001b[0mkind\u001b[0m \u001b[0;34m==\u001b[0m \u001b[0;34m'd'\u001b[0m\u001b[0;34m:\u001b[0m\u001b[0;34m\u001b[0m\u001b[0;34m\u001b[0m\u001b[0m\n\u001b[1;32m      7\u001b[0m         \u001b[0;32mreturn\u001b[0m \u001b[0mcfg\u001b[0m\u001b[0;34m\u001b[0m\u001b[0;34m\u001b[0m\u001b[0m\n",
      "\u001b[0;31mAttributeError\u001b[0m: 'EasyDict' object has no attribute 'center_of_mass'"
     ]
    }
   ],
   "source": [
    "name = 'R_Foot'\n",
    "R_M_Foot = ROBOT(\n",
    "    CSI = u2.geom_shape(p.GEOM_BOX, height = 0.04, coeff_P = [1,3,0.25]), \n",
    "    Masses      = cfgs.Foot.RIGHT.mass, \n",
    "    Positions   = xyz_v2(m2m,cfgs.AnkleS,cfgs.Foot.RIGHT),\n",
    "    indices     = 41, \n",
    "    jntTypes    = p.JOINT_PRISMATIC, \n",
    "    axis        = [0,0,0],\n",
    "    angles      = None)"
   ]
  },
  {
   "cell_type": "code",
   "execution_count": 74,
   "metadata": {},
   "outputs": [
    {
     "data": {
      "text/plain": [
       "973.896"
      ]
     },
     "execution_count": 74,
     "metadata": {},
     "output_type": "execute_result"
    }
   ],
   "source": [
    "93* 12.32*0.85"
   ]
  },
  {
   "cell_type": "code",
   "execution_count": 69,
   "metadata": {},
   "outputs": [
    {
     "data": {
      "text/plain": [
       "Body(CSI=25, Masses=1.0, Positions=[0.0, 0.0, 0.0], indices=41, jntTypes=1, axis=[0, 0, 0], angles=None)"
      ]
     },
     "execution_count": 69,
     "metadata": {},
     "output_type": "execute_result"
    }
   ],
   "source": [
    "R_M_Foot"
   ]
  },
  {
   "cell_type": "code",
   "execution_count": null,
   "metadata": {},
   "outputs": [],
   "source": [
    "p.disconnect()"
   ]
  },
  {
   "cell_type": "code",
   "execution_count": null,
   "metadata": {},
   "outputs": [],
   "source": []
  },
  {
   "cell_type": "code",
   "execution_count": 8,
   "metadata": {},
   "outputs": [],
   "source": [
    "import math\n",
    "from time import perf_counter\n",
    "from tqdm import tqdm_notebook as tqdm\n",
    "from numba import njit"
   ]
  },
  {
   "cell_type": "code",
   "execution_count": 10,
   "metadata": {},
   "outputs": [
    {
     "ename": "NameError",
     "evalue": "name 'njit' is not defined",
     "output_type": "error",
     "traceback": [
      "\u001b[0;31m---------------------------------------------------------------------------\u001b[0m",
      "\u001b[0;31mNameError\u001b[0m                                 Traceback (most recent call last)",
      "\u001b[0;32m<ipython-input-10-cc714cdeb5f2>\u001b[0m in \u001b[0;36m<module>\u001b[0;34m\u001b[0m\n\u001b[0;32m----> 1\u001b[0;31m \u001b[0;34m@\u001b[0m\u001b[0mnjit\u001b[0m\u001b[0;34m(\u001b[0m\u001b[0mfastmath\u001b[0m \u001b[0;34m=\u001b[0m \u001b[0;32mTrue\u001b[0m\u001b[0;34m)\u001b[0m\u001b[0;34m\u001b[0m\u001b[0;34m\u001b[0m\u001b[0m\n\u001b[0m\u001b[1;32m      2\u001b[0m \u001b[0;32mdef\u001b[0m \u001b[0mis_prime\u001b[0m\u001b[0;34m(\u001b[0m\u001b[0mnum\u001b[0m\u001b[0;34m)\u001b[0m\u001b[0;34m:\u001b[0m\u001b[0;34m\u001b[0m\u001b[0;34m\u001b[0m\u001b[0m\n\u001b[1;32m      3\u001b[0m     \u001b[0;32mif\u001b[0m \u001b[0mnum\u001b[0m \u001b[0;34m==\u001b[0m\u001b[0;36m2\u001b[0m\u001b[0;34m:\u001b[0m\u001b[0;34m\u001b[0m\u001b[0;34m\u001b[0m\u001b[0m\n\u001b[1;32m      4\u001b[0m         \u001b[0;32mreturn\u001b[0m \u001b[0;32mTrue\u001b[0m\u001b[0;34m\u001b[0m\u001b[0;34m\u001b[0m\u001b[0m\n\u001b[1;32m      5\u001b[0m     \u001b[0;32mif\u001b[0m \u001b[0mnum\u001b[0m\u001b[0;34m<=\u001b[0m\u001b[0;36m1\u001b[0m \u001b[0;32mor\u001b[0m \u001b[0;32mnot\u001b[0m \u001b[0mnum\u001b[0m\u001b[0;34m%\u001b[0m\u001b[0;36m2\u001b[0m\u001b[0;34m:\u001b[0m\u001b[0;34m\u001b[0m\u001b[0;34m\u001b[0m\u001b[0m\n",
      "\u001b[0;31mNameError\u001b[0m: name 'njit' is not defined"
     ]
    }
   ],
   "source": []
  },
  {
   "cell_type": "code",
   "execution_count": null,
   "metadata": {},
   "outputs": [],
   "source": [
    "99.94230086449534"
   ]
  }
 ],
 "metadata": {
  "kernelspec": {
   "display_name": "Python 3",
   "language": "python",
   "name": "python3"
  },
  "language_info": {
   "codemirror_mode": {
    "name": "ipython",
    "version": 3
   },
   "file_extension": ".py",
   "mimetype": "text/x-python",
   "name": "python",
   "nbconvert_exporter": "python",
   "pygments_lexer": "ipython3",
   "version": "3.6.9"
  }
 },
 "nbformat": 4,
 "nbformat_minor": 4
}
