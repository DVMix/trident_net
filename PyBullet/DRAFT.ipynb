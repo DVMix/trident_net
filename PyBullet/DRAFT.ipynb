{
 "cells": [
  {
   "cell_type": "code",
   "execution_count": null,
   "metadata": {},
   "outputs": [],
   "source": [
    "# https://github.com/richardbloemenkamp/Robotdog\n",
    "# https://www.youtube.com/watch?v=F-Pj9AV6wfo\n",
    "# https://habr.com/en/company/mailru/blog/343008/"
   ]
  },
  {
   "cell_type": "code",
   "execution_count": 1,
   "metadata": {},
   "outputs": [],
   "source": [
    "# import pybullet as p\n",
    "# import time\n",
    "# import pybullet_data\n",
    "# physicsClient = p.connect(p.GUI)#or p.DIRECT for non-graphical version\n",
    "# p.setAdditionalSearchPath(pybullet_data.getDataPath()) #optionally\n",
    "# p.setGravity(0,0,-10)\n",
    "# planeId = p.loadURDF(\"plane.urdf\")\n",
    "# cubeStartPos = [0,0,1]\n",
    "# cubeStartOrientation = p.getQuaternionFromEuler([0,0,0])\n",
    "# boxId = p.loadURDF(\"r2d2.urdf\",cubeStartPos, cubeStartOrientation)\n",
    "# for i in range (10000):\n",
    "#     p.stepSimulation()\n",
    "#     time.sleep(1./240.)\n",
    "# cubePos, cubeOrn = p.getBasePositionAndOrientation(boxId)\n",
    "# print(cubePos,cubeOrn)\n",
    "# p.disconnect()"
   ]
  },
  {
   "cell_type": "code",
   "execution_count": 2,
   "metadata": {},
   "outputs": [],
   "source": [
    "import pybullet as p\n",
    "import time\n",
    "import numpy as np"
   ]
  },
  {
   "cell_type": "code",
   "execution_count": 3,
   "metadata": {},
   "outputs": [],
   "source": [
    "def init_enviroment():\n",
    "    p.connect(p.GUI)\n",
    "    p.createCollisionShape(p.GEOM_PLANE, planeNormal = [0,0,1])\n",
    "    p.createMultiBody(0,0)"
   ]
  },
  {
   "cell_type": "code",
   "execution_count": 4,
   "metadata": {},
   "outputs": [],
   "source": [
    "init_enviroment()\n",
    "torso_h = 0.8\n",
    "torso_r = 0.1\n",
    "\n",
    "base      = p.createCollisionShape(p.GEOM_BOX,\n",
    "                                   halfExtents=[0.4, 0.4, 0.01])\n",
    "fig_torso = p.createCollisionShape(p.GEOM_CAPSULE,\n",
    "                                   radius = torso_r, \n",
    "                                   height = torso_h)\n",
    "connector = p.createCollisionShape(p.GEOM_SPHERE, \n",
    "                                   radius = torso_r/3)\n",
    "member    = p.createCollisionShape(p.GEOM_CAPSULE, \n",
    "                                   radius = torso_r/2, \n",
    "                                   height = torso_h/2)\n",
    "\n",
    "linkCollisionShapeIndices=[\n",
    "    fig_torso, \n",
    "    connector,member,\n",
    "    connector,member\n",
    "]\n",
    "link_Masses=[\n",
    "    1, \n",
    "    0.1, 1,\n",
    "    0.1, 1\n",
    "]\n",
    "\n",
    "linkPositions=[\n",
    "    [0,0,0.5],\n",
    "    [0, 0.2,0.3],[0,0,-0.23],\n",
    "    [0,-0.2,0.3],[0,0,-0.23]\n",
    "]\n",
    "indices=[\n",
    "    0,\n",
    "    1,2,\n",
    "    1,4\n",
    "]\n",
    "# p.JOINT_REVOLUTE, \n",
    "# p.JOINT_PRISMATIC\n",
    "jointTypes=[\n",
    "    p.JOINT_PRISMATIC,\n",
    "    p.JOINT_REVOLUTE, p.JOINT_PRISMATIC,\n",
    "    p.JOINT_REVOLUTE, p.JOINT_PRISMATIC\n",
    "]\n",
    "axis=[\n",
    "    [0,0,0],\n",
    "    [0,0,1],[0,0,0],\n",
    "    [0,1,0],[0,0,0]\n",
    "]\n",
    "# ==========================================================\n",
    "# init path masses\n",
    "body_Mass = 1\n",
    "visualShapeId = -1\n",
    "nlnk=len(link_Masses)\n",
    "linkVisualShapeIndices=[-1]*nlnk    #=[-1,-1,-1, ... , -1]\n",
    "\n",
    "linkOrientations=[[0,0,0,1]]*nlnk\n",
    "linkInertialFramePositions=[[0,0,0]]*nlnk\n",
    "linkInertialFrameOrientations=[[0,0,0,1]]*nlnk\n",
    "\n",
    "#Drop the body in the scene at the following body coordinates\n",
    "basePosition = [0,0,0]\n",
    "baseOrientation = [0,0,0,1]\n",
    "#Main function that creates the dog\n",
    "dog = p.createMultiBody(body_Mass,\n",
    "                        base,\n",
    "                        visualShapeId,\n",
    "                        basePosition,\n",
    "                        baseOrientation,\n",
    "                        linkMasses=link_Masses,\n",
    "                        linkCollisionShapeIndices=linkCollisionShapeIndices,\n",
    "                        linkVisualShapeIndices=linkVisualShapeIndices,\n",
    "                        linkPositions=linkPositions,\n",
    "                        linkOrientations=linkOrientations,\n",
    "                        linkInertialFramePositions=linkInertialFramePositions,\n",
    "                        linkInertialFrameOrientations=linkInertialFrameOrientations,\n",
    "                        linkParentIndices=indices,\n",
    "                        linkJointTypes=jointTypes,\n",
    "                        linkJointAxis=axis)\t\t\t\n",
    "# #Due to the weight the prismatic extraweight block needs to be motored up\n",
    "# joint=16\n",
    "# p.setJointMotorControl2(dog,joint,p.POSITION_CONTROL,targetPosition=0.01,force=1000,maxVelocity=3)\n",
    "# #Same for the prismatic feet spheres\n",
    "# joint=3\n",
    "# p.setJointMotorControl2(dog,joint,p.POSITION_CONTROL,targetPosition=0.0,force=1000,maxVelocity=3)\n",
    "\n"
   ]
  },
  {
   "cell_type": "code",
   "execution_count": 5,
   "metadata": {},
   "outputs": [],
   "source": [
    "#Add earth like gravity\n",
    "p.setGravity(0,0,-9.81)\n",
    "p.setRealTimeSimulation(1)"
   ]
  },
  {
   "cell_type": "code",
   "execution_count": null,
   "metadata": {},
   "outputs": [],
   "source": [
    "p.disconnect()"
   ]
  },
  {
   "cell_type": "code",
   "execution_count": 6,
   "metadata": {},
   "outputs": [
    {
     "data": {
      "text/plain": [
       "1.5707963267948966"
      ]
     },
     "execution_count": 6,
     "metadata": {},
     "output_type": "execute_result"
    }
   ],
   "source": [
    "import numpy as np\n",
    "def rad2deg(deg):\n",
    "    return (deg/180)*np.pi\n",
    "rad2deg(90)"
   ]
  },
  {
   "cell_type": "code",
   "execution_count": 7,
   "metadata": {},
   "outputs": [],
   "source": [
    "#Due to the weight the prismatic extraweight block needs \n",
    "# to be motored up\n",
    "\n",
    "# axis=[\n",
    "#     [0,0,0],\n",
    "#     [0,0,1],[0,0,0],\n",
    "#     [0,1,0],[0,0,0]\n",
    "# ]\n",
    "# z - rotation around cm"
   ]
  },
  {
   "cell_type": "code",
   "execution_count": 8,
   "metadata": {},
   "outputs": [],
   "source": [
    "p.setRealTimeSimulation(1)\n",
    "p.setGravity(0,0,-9.81)"
   ]
  },
  {
   "cell_type": "code",
   "execution_count": 9,
   "metadata": {},
   "outputs": [],
   "source": [
    "p.resetBasePositionAndOrientation(1,basePosition,baseOrientation)"
   ]
  },
  {
   "cell_type": "code",
   "execution_count": 13,
   "metadata": {
    "scrolled": true
   },
   "outputs": [],
   "source": [
    "joint=3\n",
    "degrees = 0\n",
    "degrees_per_second = 180\n",
    "base_pos = p.getJointState(1, joint)\n",
    "p.setJointMotorControl2(\n",
    "    dog,joint,\n",
    "    p.POSITION_CONTROL,\n",
    "    targetPosition=rad2deg(degrees),\n",
    "    force=1000,\n",
    "    maxVelocity=rad2deg(degrees_per_second)\n",
    ")"
   ]
  },
  {
   "cell_type": "code",
   "execution_count": null,
   "metadata": {},
   "outputs": [],
   "source": []
  }
 ],
 "metadata": {
  "kernelspec": {
   "display_name": "Python 3",
   "language": "python",
   "name": "python3"
  },
  "language_info": {
   "codemirror_mode": {
    "name": "ipython",
    "version": 3
   },
   "file_extension": ".py",
   "mimetype": "text/x-python",
   "name": "python",
   "nbconvert_exporter": "python",
   "pygments_lexer": "ipython3",
   "version": "3.6.9"
  }
 },
 "nbformat": 4,
 "nbformat_minor": 4
}
