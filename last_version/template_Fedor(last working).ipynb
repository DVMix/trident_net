{
 "cells": [
  {
   "cell_type": "code",
   "execution_count": null,
   "metadata": {},
   "outputs": [],
   "source": [
    "# !apt-get update \n",
    "# !pip3 install pybullet\n",
    "# !apt-get install -y ffmpeg\n",
    "# https://docs.google.com/document/d/10sXEhzFRSnvFcl3XxNGhnD4N2SedqwdAvK3dsihxVUA/edit#"
   ]
  },
  {
   "cell_type": "code",
   "execution_count": 1,
   "metadata": {},
   "outputs": [],
   "source": [
    "import numpy as np"
   ]
  },
  {
   "cell_type": "code",
   "execution_count": 2,
   "metadata": {},
   "outputs": [
    {
     "data": {
      "text/plain": [
       "1"
      ]
     },
     "execution_count": 2,
     "metadata": {},
     "output_type": "execute_result"
    }
   ],
   "source": [
    "np.abs(1-2)"
   ]
  },
  {
   "cell_type": "code",
   "execution_count": 3,
   "metadata": {},
   "outputs": [],
   "source": [
    "def reward_fn(previous_position, current_position):\n",
    "    zero__position = np.power(np.abs(current_position[0]-previous_position[0]),2)\n",
    "    first_position = np.power(np.abs(current_position[1]-previous_position[1]),2)\n",
    "    dekart_distance = np.power(zero__position+first_position,0.5)\n",
    "    reward = dekart_distance*current_position[2]\n",
    "    return reward"
   ]
  },
  {
   "cell_type": "code",
   "execution_count": 5,
   "metadata": {},
   "outputs": [
    {
     "data": {
      "text/plain": [
       "5.0"
      ]
     },
     "execution_count": 5,
     "metadata": {},
     "output_type": "execute_result"
    }
   ],
   "source": [
    "a = [1,1]\n",
    "b = [4,5]\n",
    "reward_fn(a,b)"
   ]
  },
  {
   "cell_type": "code",
   "execution_count": 1,
   "metadata": {},
   "outputs": [],
   "source": [
    "import pybullet as p\n",
    "import time\n",
    "import numpy as np\n",
    "import os\n",
    "import sys\n",
    "from collections import namedtuple\n",
    "\n",
    "import _utils_v2 as utils\n",
    "from _utils_v2 import geom_shape, xyz_v2, s, CFG_Loader\n",
    "from builder.robot_cfg_initializer import initializer\n",
    "from builder.robot_builder import builder\n",
    "from builder.main import main\n",
    "\n",
    "ROBOT = namedtuple('Body',['CSI', 'Masses', 'Positions', 'indices', 'jntTypes', 'axis', 'angles'])\n",
    "\n",
    "class name(object):\n",
    "    def __init__(self, \n",
    "                 path2cfgs, \n",
    "                 VARIABLE        = 0.04,\n",
    "                 fig_joint_coeff = 0.25,\n",
    "                 centered        = False\n",
    "                ):\n",
    "        \n",
    "        super(name, self).__init__()\n",
    "        self.m2j    = ['m','j']\n",
    "        self.j2m    = ['j','m']\n",
    "        self.m2m    = ['m','m']\n",
    "        self.d2m    = ['d','m']\n",
    "        self.m2d    = ['m','d']\n",
    "        self.STATIC = [0,0,0]\n",
    "        \n",
    "        self.centered       = centered\n",
    "        self.j              = fig_joint_coeff\n",
    "        self.VARIABLE       = VARIABLE\n",
    "        self.body_Mass      = 20000 if centered else 1e-5\n",
    "        self.base_position  = utils.coordinates(0,0,0) if centered else utils.coordinates(0,0,1)\n",
    "        self.initializer    = initializer(path2cfgs, self.VARIABLE, self.j)\n",
    "        self.builder        = builder(self.initializer, self.base_position)\n",
    "        \n",
    "        \n",
    "    def start_enviroment(self):\n",
    "        utils.init_window()\n",
    "        self.main = main(self.builder, self.body_Mass, self.centered)\n",
    "        self.main.create_body()\n",
    "        \n",
    "    def reset(self):\n",
    "        p.resetBasePositionAndOrientation(1, list(self.base_position), [0,0,0,1])\n",
    "        return\n",
    "    \n",
    "    def step(self):\n",
    "        return\n",
    "        \n",
    "    @staticmethod\n",
    "    def stop_enviroment():\n",
    "        p.disconnect()\n",
    "    \n",
    "path = './cfgs'\n",
    "body = name(path)"
   ]
  },
  {
   "cell_type": "code",
   "execution_count": 3,
   "metadata": {},
   "outputs": [],
   "source": [
    "body.start_enviroment()"
   ]
  },
  {
   "cell_type": "code",
   "execution_count": null,
   "metadata": {},
   "outputs": [],
   "source": [
    "body.stop()"
   ]
  },
  {
   "cell_type": "code",
   "execution_count": null,
   "metadata": {},
   "outputs": [],
   "source": [
    "angle_HeadF       = 0; angle_HeadR       = 0; angle_neck   = 0;\n",
    "angle_TorsoS      = 0; angle_TorsoF      = 0; angle_TorsoR = 0;\n",
    "angle_R_ShoulderF = 0; angle_L_ShoulderF = 0\n",
    "angle_R_ShoulderS = 0; angle_L_ShoulderS = 0\n",
    "angle_R_ElbowR    = 0; angle_L_ElbowR    = 0\n",
    "angle_R_Elbow     = 0; angle_L_Elbow     = 0\n",
    "angle_R_HipF      = 0; angle_L_HipF      = 0\n",
    "angle_R_HipS      = 0; angle_L_HipS      = 0\n",
    "angle_R_HipR      = 0; angle_L_HipR      = 0\n",
    "angle_R_Knee      = 0; angle_L_Knee      = 0\n",
    "angle_R_AnkleF    = 0; angle_L_AnkleF    = 0\n",
    "angle_R_AnkleS    = 0; angle_L_AnkleS    = 0"
   ]
  },
  {
   "cell_type": "code",
   "execution_count": null,
   "metadata": {},
   "outputs": [],
   "source": [
    "TorsoS      = [ -15,  15]   \n",
    "TorsoF      = [ -12,  40] \n",
    "TorsoR      = [ -95,  95]\n",
    "Neck        = [ -10,  40]   \n",
    "HeadR       = [ -80,  80] \n",
    "HeadF       = [ -60,  20]\n",
    "ShoulderF   = [-150,  90] \n",
    "L_ShoulderS = [   0,-150] \n",
    "R_ShoulderS = [ 150,   0]\n",
    "ElbwR       = [-110, 110] \n",
    "Elbw        = [ 120,   5]\n",
    "__HipF      = [ -90,  35]   \n",
    "R_HipS      = [ -90,   2] \n",
    "L_HipS      = [ -12,  90] \n",
    "__HipR      = [ -90,  90]\n",
    "__Knee      = [   0, 110]   \n",
    "__AnkleF    = [ -40,  25] \n",
    "__AnkleS    = [ -30,  30]"
   ]
  },
  {
   "cell_type": "code",
   "execution_count": null,
   "metadata": {},
   "outputs": [],
   "source": [
    "from MAIN_LOOP.printer import printer\n",
    "from MAIN_LOOP.options import options\n",
    "from MAIN_LOOP.body_mv import move_head, move_torso, move_arms, move_legs\n",
    "\n",
    "# angleFHead, angleRHead, angle_neck\n",
    "main_flag = True\n",
    "while main_flag:\n",
    "    msg = 'Main: Options(O), BodyMove(M), Info(?), Quit(Q)'\n",
    "    printer(msg)\n",
    "    keys = p.getKeyboardEvents()\n",
    "    if keys.get(111): # o - options\n",
    "        result = options(\n",
    "            body.cameraDistance, \n",
    "            body.cameraYaw, \n",
    "            body.cameraPitch)\n",
    "        body.cameraDistance, \\\n",
    "        body.cameraYaw, \\\n",
    "        body.cameraPitch = result\n",
    "    \n",
    "    if keys.get(109): # m - move body paths\n",
    "        move_flag = True\n",
    "        while move_flag:\n",
    "            printer('Move: Head(H), Torso(T), Arms(A), Legs(L), Info(?). Quit(1)')\n",
    "            move_loop = p.getKeyboardEvents()\n",
    "            if move_loop.get(104):# H - Head\n",
    "                angles      = [angle_neck, angle_HeadR, angle_HeadF]\n",
    "                minmaxNandH = [Neck, HeadR, HeadF]\n",
    "                angles      = move_head(robot, NandH, angles, minmaxNandH)\n",
    "            if move_loop.get(116):# T - Torso\n",
    "                angles      = [angle_TorsoS, angle_TorsoF, angle_TorsoR]\n",
    "                minmaxTorso = [TorsoS,TorsoF,TorsoR]\n",
    "                angles      = move_torso(robot, Torso, angles, minmaxTorso)\n",
    "            if move_loop.get(97): # A - Arms\n",
    "                angles      = [\n",
    "                    angle_R_ShoulderF, angle_L_ShoulderF,\n",
    "                    angle_R_ShoulderS, angle_L_ShoulderS,\n",
    "                    angle_R_ElbowR,    angle_L_ElbowR,\n",
    "                    angle_R_Elbow,     angle_L_Elbow,]\n",
    "                minmaxArms  = [ShoulderF, [R_ShoulderS, L_ShoulderS], ElbwR, Elbw]\n",
    "                Arms        = ShldrF + ShldrS + ElbowR + Elbow\n",
    "                angles      = move_arms(robot, Arms, angles, minmaxArms)\n",
    "            if move_loop.get(108):# L - Legs\n",
    "                angles      = [\n",
    "                    angle_R_HipF,   angle_L_HipF,\n",
    "                    angle_R_HipS,   angle_L_HipS,\n",
    "                    angle_R_HipR,   angle_L_HipR,\n",
    "                    angle_R_Knee,   angle_L_Knee,\n",
    "                    angle_R_AnkleF, angle_L_AnkleF,\n",
    "                    angle_R_AnkleS, angle_L_AnkleS,]\n",
    "                minmaxLegs = [__HipF, [R_HipS, L_HipS], __HipR, __Knee, __AnkleF, __AnkleS]\n",
    "                Legs       = HipF + HipS + HipR + Knee + AnkleF + AnkleS\n",
    "                angles     = move_legs(robot, Legs, angles, minmaxLegs)\n",
    "            if move_loop.get(49): # Quit MV Block\n",
    "                move_flag = False\n",
    "            if move_loop.get(47):\n",
    "                msg = 'MV Block: press \"1\" to go \"Main\"'\n",
    "                printer(msg)\n",
    "            time.sleep(0.3)\n",
    "    if keys.get(47):\n",
    "        printer(msg)\n",
    "    if keys.get(113):\n",
    "        printer('Quit Main...')\n",
    "        main_flag = False\n",
    "    time.sleep(0.1)\n",
    "p.disconnect()"
   ]
  }
 ],
 "metadata": {
  "kernelspec": {
   "display_name": "Python 3",
   "language": "python",
   "name": "python3"
  },
  "language_info": {
   "codemirror_mode": {
    "name": "ipython",
    "version": 3
   },
   "file_extension": ".py",
   "mimetype": "text/x-python",
   "name": "python",
   "nbconvert_exporter": "python",
   "pygments_lexer": "ipython3",
   "version": "3.6.9"
  }
 },
 "nbformat": 4,
 "nbformat_minor": 4
}
