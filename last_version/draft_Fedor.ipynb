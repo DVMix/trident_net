{
 "cells": [
  {
   "cell_type": "code",
   "execution_count": null,
   "metadata": {
    "scrolled": true
   },
   "outputs": [],
   "source": [
    "import torch\n",
    "\n",
    "import pybullet as p\n",
    "import time\n",
    "import numpy as np\n",
    "import os\n",
    "import sys\n",
    "from collections import namedtuple\n",
    "from net.DQN_Solver import DQNSolver\n",
    "from net.env import daughter, get_state\n",
    "#from net.fns import coord2angle"
   ]
  },
  {
   "cell_type": "code",
   "execution_count": 1,
   "metadata": {},
   "outputs": [
    {
     "data": {
      "text/plain": [
       "True"
      ]
     },
     "execution_count": 1,
     "metadata": {},
     "output_type": "execute_result"
    }
   ],
   "source": [
    "True or False"
   ]
  },
  {
   "cell_type": "code",
   "execution_count": null,
   "metadata": {},
   "outputs": [],
   "source": [
    "def make_env(path2cfgs, angle_step=None, RTS = 1, centered = False):\n",
    "    env = daughter(path2cfgs, angle_step=angle_step, RTS = RTS, centered=centered)\n",
    "    env.init_enviroment()\n",
    "    return env\n",
    "\n",
    "def rad2deg(radians):\n",
    "    return (radians/np.pi)* 180\n",
    "\n",
    "def deg2rad(degrees):\n",
    "    return (degrees/180) * np.pi"
   ]
  },
  {
   "cell_type": "code",
   "execution_count": null,
   "metadata": {
    "scrolled": true
   },
   "outputs": [],
   "source": [
    "# def robot(BATCH_SIZE, angle_step = None, path = './cfgs'):\n",
    "# path = './cfgs'\n",
    "# robot(500, 3)\n",
    "\n",
    "path = './cfgs'\n",
    "angle_step = 3\n",
    "BATCH_SIZE = 50\n",
    "CENTERED = False\n",
    "\n",
    "env = make_env(path,angle_step=angle_step, centered = CENTERED)\n",
    "body_index = 1; full = False\n",
    "\n",
    "arms_and_legs = [29,35,37,42,48,50]\n",
    "\n",
    "env.set_avalible_motors(arms_and_legs)\n",
    "motors = env.mtrIdx if full else arms_and_legs\n",
    "\n",
    "observation_space = get_state(body_index, motors).shape[0]\n",
    "action_space      = len(motors)*2\n",
    "dqn_solver        = DQNSolver(observation_space, \n",
    "                              action_space, \n",
    "                              BATCH_SIZE = BATCH_SIZE,\n",
    "                              LEARNING_RATE = 0.01)"
   ]
  },
  {
   "cell_type": "code",
   "execution_count": null,
   "metadata": {},
   "outputs": [],
   "source": [
    "env.reset()\n",
    "p.setRealTimeSimulation(0)"
   ]
  },
  {
   "cell_type": "code",
   "execution_count": null,
   "metadata": {},
   "outputs": [],
   "source": [
    "p.disconnect()\n",
    "# p.setRealTimeSimulation(0)"
   ]
  },
  {
   "cell_type": "code",
   "execution_count": null,
   "metadata": {},
   "outputs": [],
   "source": [
    "def det_single_motor_state(body_index, motor):\n",
    "    array = []\n",
    "    jointState = p.getJointState(body_index, motor)\n",
    "    jointState = jointState[0],jointState[1],jointState[3]\n",
    "    linkState  = p.getLinkState(body_index, motor)[:2]\n",
    "    for source in [jointState, linkState]:\n",
    "        for i in source:\n",
    "            if not isinstance(i, (list, tuple)):\n",
    "                array.append(i)\n",
    "            else:\n",
    "                array.extend(i)\n",
    "    return array\n",
    "\n",
    "def get_state(body_index, motor_list):\n",
    "    array = []\n",
    "    for motor in motor_list:\n",
    "        state = det_single_motor_state(body_index, motor)\n",
    "        array.extend(state)\n",
    "\n",
    "    return torch.tensor(data = array, dtype = torch.float32).reshape(1,len(motor_list),-1)"
   ]
  },
  {
   "cell_type": "code",
   "execution_count": null,
   "metadata": {},
   "outputs": [],
   "source": [
    "new_state = get_state(1, arms_and_legs)\n",
    "new_state.shape"
   ]
  },
  {
   "cell_type": "code",
   "execution_count": null,
   "metadata": {},
   "outputs": [],
   "source": [
    "bn = torch.nn.BatchNorm1d(6)\n",
    "r = bn(new_state)\n",
    "r"
   ]
  },
  {
   "cell_type": "code",
   "execution_count": null,
   "metadata": {},
   "outputs": [],
   "source": []
  },
  {
   "cell_type": "code",
   "execution_count": null,
   "metadata": {},
   "outputs": [],
   "source": [
    "r.shape"
   ]
  },
  {
   "cell_type": "markdown",
   "metadata": {},
   "source": [
    "1. bodyUniqueId\n",
    "2. linkIndex\n",
    "3. computeLinkVelocity\n",
    "4. computeForwardKinematics\n",
    "\n",
    "link_id = 0\n",
    "state = p.getLinkState(1,link_id,1,1)"
   ]
  },
  {
   "cell_type": "markdown",
   "metadata": {},
   "source": [
    "1. linkWorldPosition (Cartesian position of center of mass)\n",
    "2. linkWorldOrientation (Cartesian orientation of center of mass, \n",
    "   in quaternion [x,y,z,w])\n",
    "3. localInertialFramePosition (local position offset of inertial frame \n",
    "   (center of mass) expressed in the URDF link frame)\n",
    "4. localInertialFrameOrientation (local orientation (quaternion [x,y,z,w]) \n",
    "   offset of the inertial frame expressed in URDF link frame.)\n",
    "5. worldLinkFramePosition (world position of the URDF link frame)\n",
    "6. worldLinkFrameOrientation (world orientation of the URDF link frame)\n",
    "7. worldLinkLinearVelocity (Cartesian world velocity. Only returned if \n",
    "   computeLinkVelocity non-zero.)\n",
    "8. worldLinkAngularVelocity (Cartesian world velocity. Only returned if \n",
    "   computeLinkVelocity non-zero.)"
   ]
  },
  {
   "cell_type": "code",
   "execution_count": null,
   "metadata": {},
   "outputs": [],
   "source": [
    "env.reset()\n",
    "p.setRealTimeSimulation(0)"
   ]
  },
  {
   "cell_type": "code",
   "execution_count": null,
   "metadata": {},
   "outputs": [],
   "source": [
    "env.reset()\n",
    "p.setRealTimeSimulation(1)"
   ]
  },
  {
   "cell_type": "code",
   "execution_count": null,
   "metadata": {},
   "outputs": [],
   "source": [
    "torso_angle = 15\n",
    "legs_angle = 30\n",
    "degrees = 0\n",
    "\n",
    "pelvis, neck, foot = 0,8,[41,54] "
   ]
  },
  {
   "cell_type": "code",
   "execution_count": null,
   "metadata": {},
   "outputs": [],
   "source": [
    "pelvis_position = np.array(p.getLinkState(1, pelvis,1,1)[0])\n",
    "neck_position   = np.array(p.getLinkState(1, neck,  1,1)[0])\n",
    "foot_position   = landed_foot(foot)\n",
    "coord2angle_N(pelvis_position, neck_position), coord2angle_N(foot_position, pelvis_position)"
   ]
  },
  {
   "cell_type": "code",
   "execution_count": null,
   "metadata": {},
   "outputs": [],
   "source": [
    "degrees += 1\n",
    "print(degrees)\n",
    "force = 1000\n",
    "maxVelocity = 360\n",
    "p.setJointMotorControl2(\n",
    "    1,\n",
    "    3,\n",
    "    p.POSITION_CONTROL,\n",
    "    targetPosition = deg2rad(degrees),\n",
    "    force          = force,\n",
    "    maxVelocity    = deg2rad(maxVelocity)\n",
    ")\n",
    "# p.stepSimulation()\n",
    "\n",
    "pelvis_position = np.array(p.getLinkState(1, pelvis,1,1)[0])\n",
    "neck_position   = np.array(p.getLinkState(1, neck,  1,1)[0])\n",
    "foot_position   = landed_foot(foot)\n",
    "coord2angle_N(pelvis_position, neck_position), coord2angle_N(foot_position, pelvis_position)"
   ]
  },
  {
   "cell_type": "code",
   "execution_count": null,
   "metadata": {},
   "outputs": [],
   "source": [
    "# def pelvis_foot_angle(pelvis = 0, foot_list = [41,54], annotated = False):\n",
    "#     foot_position = landed_foot(foot_list)\n",
    "#     pelvis_position = np.array(p.getLinkState(1, pelvis,1,1)[0])\n",
    "#     if annotated:\n",
    "#         return dict(pelvis_position=pelvis_position, foot_position=foot_position)\n",
    "#     return foot_position, pelvis_position\n",
    "\n",
    "# def pelvis_head_angle(pelvis = 0, neck = 8, annotated = False):\n",
    "#     link_states = p.getLinkStates(1,[pelvis,neck],1,1)\n",
    "#     positions = np.array([np.array(tuple_[0]) for tuple_ in link_states])\n",
    "#     if annotated:\n",
    "#         return dict(pelvis_position = positions[0], neck_position = positions[1])\n",
    "#     return positions\n",
    "\n",
    "# pf = pelvis_foot_angle(annotated = True)\n",
    "# ph = pelvis_head_angle(annotated = True)\n",
    "# pf, ph"
   ]
  },
  {
   "cell_type": "code",
   "execution_count": null,
   "metadata": {},
   "outputs": [],
   "source": [
    "False*False"
   ]
  },
  {
   "cell_type": "code",
   "execution_count": null,
   "metadata": {},
   "outputs": [],
   "source": [
    "minmax = [0, 90]\n",
    "a = 910\n",
    "if a>=minmax[0] and a<=minmax[1]:\n",
    "    print(True)"
   ]
  },
  {
   "cell_type": "code",
   "execution_count": null,
   "metadata": {},
   "outputs": [],
   "source": [
    "def midle_foot_coord(position):\n",
    "    avg_pos = (position[0] + position[1])/2\n",
    "    return avg_pos\n",
    "\n",
    "def landed_foot(foot_idx_list = [41,54], threshold = 0.1):\n",
    "    link_states = p.getLinkStates(1, foot_idx_list,1,1)\n",
    "    position = np.array([np.array(tuple_[0]) for tuple_ in link_states])\n",
    "    mask = [l[2]<threshold for l in position]\n",
    "    position = position[mask]\n",
    "    \n",
    "    if position.shape[0]==2:\n",
    "        position = midle_foot_coord(position)\n",
    "    else:\n",
    "        position = position[0]\n",
    "    return position\n",
    "\n",
    "import math\n",
    "def rad2deg(radians: float) -> float:\n",
    "    degree = radians*180/math.pi\n",
    "    return degree\n",
    "\n",
    "def deg2rad(degree: float) -> float:\n",
    "    radians = degree*math.pi/180\n",
    "    return radians\n",
    "\n",
    "def coord2angle_N(point1: tuple, point2: tuple) -> float:\n",
    "    angle = 0\n",
    "    x = point2[0] - point1[0]\n",
    "    y = point2[1] - point1[1]\n",
    "    z = point2[2] - point1[2]\n",
    "    \n",
    "    xd = math.sqrt(math.pow(x,2)+math.pow(z,2))\n",
    "    x_cos = z/xd\n",
    "    x_arccos= math.acos(x_cos)\n",
    "    x_angle = rad2deg(x_arccos)\n",
    "    \n",
    "    yd = math.sqrt(math.pow(y,2)+math.pow(z,2))\n",
    "    y_cos = z/yd\n",
    "    y_arccos= math.acos(y_cos)\n",
    "    y_angle = rad2deg(y_arccos)\n",
    "    \n",
    "    xyd  = math.sqrt(math.pow(x,2)+math.pow(y,2))\n",
    "    xyzd = math.sqrt(math.pow(z,2)+math.pow(xyd,2))\n",
    "    xyz_cos   = z/xyzd\n",
    "    xyz_arccos= math.acos(xyz_cos)\n",
    "    xyz_angle = rad2deg(xyz_arccos)\n",
    "    \n",
    "    return round(x_angle,1),round(y_angle,1),round(xyz_angle,1)"
   ]
  },
  {
   "cell_type": "code",
   "execution_count": null,
   "metadata": {},
   "outputs": [],
   "source": [
    "pelvis, neck, foot = 0,8,[41,54] \n",
    "pelvis_position = np.array(p.getLinkState(1, pelvis,1,1)[0])\n",
    "neck_position   = np.array(p.getLinkState(1, neck,  1,1)[0])\n",
    "foot_position   = landed_foot(foot)\n",
    "pelvis_position, neck_position, foot_position"
   ]
  },
  {
   "cell_type": "code",
   "execution_count": null,
   "metadata": {},
   "outputs": [],
   "source": [
    "neck_position - pelvis_position"
   ]
  },
  {
   "cell_type": "code",
   "execution_count": null,
   "metadata": {
    "scrolled": true
   },
   "outputs": [],
   "source": [
    "pelvis_position - foot_position"
   ]
  },
  {
   "cell_type": "code",
   "execution_count": null,
   "metadata": {},
   "outputs": [],
   "source": [
    "base_angle = coord2angle_N(pelvis_position, neck_position), coord2angle_N(foot_position, pelvis_position)"
   ]
  },
  {
   "cell_type": "code",
   "execution_count": null,
   "metadata": {},
   "outputs": [],
   "source": [
    "p.getBasePositionAndOrientation(1)"
   ]
  },
  {
   "cell_type": "code",
   "execution_count": null,
   "metadata": {},
   "outputs": [],
   "source": [
    "p.getLinkState(1,0,1,1)[0]"
   ]
  },
  {
   "cell_type": "code",
   "execution_count": null,
   "metadata": {},
   "outputs": [],
   "source": [
    "a = 3 \n",
    "b = 4"
   ]
  },
  {
   "cell_type": "code",
   "execution_count": null,
   "metadata": {},
   "outputs": [],
   "source": [
    "a==4 or b ==4"
   ]
  },
  {
   "cell_type": "code",
   "execution_count": null,
   "metadata": {},
   "outputs": [],
   "source": []
  }
 ],
 "metadata": {
  "kernelspec": {
   "display_name": "Python 3",
   "language": "python",
   "name": "python3"
  },
  "language_info": {
   "codemirror_mode": {
    "name": "ipython",
    "version": 3
   },
   "file_extension": ".py",
   "mimetype": "text/x-python",
   "name": "python",
   "nbconvert_exporter": "python",
   "pygments_lexer": "ipython3",
   "version": "3.6.9"
  }
 },
 "nbformat": 4,
 "nbformat_minor": 4
}
