{
 "cells": [
  {
   "cell_type": "code",
   "execution_count": null,
   "metadata": {},
   "outputs": [],
   "source": [
    "def rad2deg(degree):\n",
    "    return degree* np.pi/180\n",
    "#============================================================================================================\n",
    "def Mot_Pos_Ctrl(multi_body,motor_index,degrees, force = 1000, maxVelocity = 3):\n",
    "    return p.setJointMotorControl2(\n",
    "        multi_body,\n",
    "        motor_index,\n",
    "        p.POSITION_CONTROL,\n",
    "        targetPosition = rad2deg(degrees),\n",
    "        force          = force,\n",
    "        maxVelocity    = maxVelocity\n",
    "    )\n",
    "\n",
    "def resetCoordinates(multibody, motorIndexes, linkValues):\n",
    "    assert len(motorIndexes)==len(linkValues)\n",
    "    for i in range(len(motorIndexes)):\n",
    "        Mot_Pos_Ctrl(multibody,motorIndexes[i],linkValues[i])\n",
    "#============================================================================================================"
   ]
  },
  {
   "cell_type": "code",
   "execution_count": 2,
   "metadata": {},
   "outputs": [],
   "source": [
    "from MAIN_LOOP.body_mv import move_head, move_torso, move_arms, move_legs"
   ]
  },
  {
   "cell_type": "code",
   "execution_count": null,
   "metadata": {},
   "outputs": [],
   "source": [
    "def move_member(robot,motor_indexes, angles, minmax, member, joint, side = None):\n",
    "    if angles[joint]<=minmax[1]:\n",
    "        angles[joint]+=1\n",
    "    if angles[joint]>minmax[0]:\n",
    "        angles[joint]-=1\n",
    "    resetCoordinates(robot,motor_indexes,angles)\n",
    "    return angles[joint]"
   ]
  },
  {
   "cell_type": "code",
   "execution_count": 6,
   "metadata": {},
   "outputs": [
    {
     "data": {
      "text/plain": [
       "63987.719999999994"
      ]
     },
     "execution_count": 6,
     "metadata": {},
     "output_type": "execute_result"
    }
   ],
   "source": [
    "62 * 1032.06 #+ 615.66 + 191"
   ]
  },
  {
   "cell_type": "code",
   "execution_count": 12,
   "metadata": {},
   "outputs": [],
   "source": [
    "angles = [0,10,-20,30,-40,50]\n",
    "minmax = [\n",
    "    [-10,10],\n",
    "    [-10,10],\n",
    "    [-10,10],\n",
    "    [-10,10],\n",
    "    [-10,10],\n",
    "    [-10,10]\n",
    "]"
   ]
  },
  {
   "cell_type": "code",
   "execution_count": 13,
   "metadata": {},
   "outputs": [],
   "source": []
  },
  {
   "cell_type": "code",
   "execution_count": 14,
   "metadata": {},
   "outputs": [
    {
     "data": {
      "text/plain": [
       "[0, 10, -10, 10, -10, 10]"
      ]
     },
     "execution_count": 14,
     "metadata": {},
     "output_type": "execute_result"
    }
   ],
   "source": [
    "clamp(angles, minmax)"
   ]
  },
  {
   "cell_type": "code",
   "execution_count": null,
   "metadata": {},
   "outputs": [],
   "source": []
  }
 ],
 "metadata": {
  "kernelspec": {
   "display_name": "Python 3",
   "language": "python",
   "name": "python3"
  },
  "language_info": {
   "codemirror_mode": {
    "name": "ipython",
    "version": 3
   },
   "file_extension": ".py",
   "mimetype": "text/x-python",
   "name": "python",
   "nbconvert_exporter": "python",
   "pygments_lexer": "ipython3",
   "version": "3.6.9"
  }
 },
 "nbformat": 4,
 "nbformat_minor": 4
}
